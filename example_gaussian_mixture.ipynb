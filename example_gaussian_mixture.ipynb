{
 "cells": [
  {
   "cell_type": "markdown",
   "metadata": {},
   "source": [
    "# Example: Gaussian-Mixture data\n",
    "\n",
    "## 여기서부터 다시 하기 TEST at colab: https://colab.research.google.com/drive/1lLE7oZCxzRfujsR9zL8CaqUwwMvW38Fl?usp=sharing\n",
    "\n",
    "2020-11-26 first created"
   ]
  },
  {
   "cell_type": "code",
   "execution_count": null,
   "metadata": {},
   "outputs": [],
   "source": [
    "from IPython.display import HTML\n",
    "import matplotlib.pyplot as plt\n",
    "from matplotlib import cm\n",
    "import numpy as np\n",
    "import itertools\n",
    "from model import InvertibleNet\n",
    "from utils import *\n",
    "from sklearn.preprocessing import StandardScaler\n",
    "import tensorflow as tf\n",
    "print(tf.__version__)\n",
    "!python --version"
   ]
  },
  {
   "cell_type": "markdown",
   "metadata": {},
   "source": [
    "## Settings"
   ]
  },
  {
   "cell_type": "code",
   "execution_count": null,
   "metadata": {},
   "outputs": [],
   "source": [
    "n_means = 8\n",
    "radius = 10\n",
    "sd = 1.5\n",
    "labels = ['red','red','red','red','blue','blue','green','purple']\n",
    "assert len(labels) == n_means\n",
    "\n",
    "x_dim = 2\n",
    "y_dim = 4\n",
    "z_dim = 2\n",
    "tot_dim = y_dim + z_dim\n",
    "pad_dim = tot_dim - x_dim\n",
    "n_sample = 500\n",
    "n_data = n_sample * n_means\n",
    "n_couple_layer = 5\n",
    "n_hid_layer = 3\n",
    "n_hid_dim = 512\n",
    "\n",
    "n_batch = 128\n",
    "n_epoch = 1000\n",
    "n_display = 100"
   ]
  },
  {
   "cell_type": "code",
   "execution_count": null,
   "metadata": {},
   "outputs": [],
   "source": [
    "# Make data\n",
    "X_raw = np.zeros((n_means, n_sample, x_dim), dtype='float32')\n",
    "for i in range(n_means):\n",
    "    th = 2*np.pi / n_means * (i+1)\n",
    "    mean = [radius*np.cos(th), radius*np.sin(th)]\n",
    "    X_raw[i, :, :] = np.random.multivariate_normal(mean, np.identity(x_dim)*sd, size=n_sample)\n",
    "print(X_raw.shape)"
   ]
  },
  {
   "cell_type": "code",
   "execution_count": null,
   "metadata": {},
   "outputs": [],
   "source": [
    "fig, ax = plt.subplots(figsize=(5,5), facecolor='white')\n",
    "for i in range(n_means):\n",
    "    ax.scatter(X_raw[i,:,0], X_raw[i,:,1], s=5)"
   ]
  },
  {
   "cell_type": "code",
   "execution_count": null,
   "metadata": {},
   "outputs": [],
   "source": [
    "# Preprocess\n",
    "uq_labels = list(set(labels))\n",
    "idx2lab = {i:lab for i, lab in enumerate(uq_labels)}\n",
    "lab2idx = {idx2lab[key]:i for i, key in enumerate(idx2lab.keys())}\n",
    "\n",
    "X = X_raw.reshape((-1, x_dim))\n",
    "X = StandardScaler().fit_transform(X)\n",
    "y = [[lab2idx[lab]]*n_sample for lab in labels]\n",
    "y = list(itertools.chain.from_iterable(y)) # flatten\n",
    "y_onehot = np.eye(len(uq_labels))[y].astype('int')"
   ]
  },
  {
   "cell_type": "code",
   "execution_count": null,
   "metadata": {},
   "outputs": [],
   "source": [
    "fig, ax = plt.subplots(figsize=(5,5), facecolor='white')\n",
    "for i, color in zip(idx2lab.keys(), lab2idx.keys()):\n",
    "    idx = [True if j==i else False for j in y]\n",
    "    ax.scatter(X[idx,0], X[idx,1], s=5, c=color)"
   ]
  },
  {
   "cell_type": "code",
   "execution_count": null,
   "metadata": {},
   "outputs": [],
   "source": [
    "# Pad data\n",
    "pad_x = np.zeros((X.shape[0], pad_dim))\n",
    "x_data = np.concatenate([X, pad_x], axis=-1).astype('float32')\n",
    "z = np.random.multivariate_normal([1.]*x_dim, np.eye(x_dim), X.shape[0])\n",
    "y_data = np.concatenate([z, y_onehot], axis=-1).astype('float32')\n",
    "\n",
    "# Make dataset generator\n",
    "x_data = tf.data.Dataset.from_tensor_slices(x_data)\n",
    "y_data = tf.data.Dataset.from_tensor_slices(y_data)\n",
    "dataset = (tf.data.Dataset.zip((x_data, y_data))\n",
    "           .shuffle(buffer_size=X.shape[0])\n",
    "           .batch(n_batch, drop_remainder=True)\n",
    "           .repeat())"
   ]
  },
  {
   "cell_type": "code",
   "execution_count": null,
   "metadata": {},
   "outputs": [],
   "source": [
    "def MMD_multiscale(x, y):\n",
    "    xx = tf.linalg.matmul(x, tf.transpose(x))\n",
    "    yy = tf.linalg.matmul(y, tf.transpose(y))\n",
    "    zz = tf.linalg.matmul(x, tf.transpose(y))\n",
    "\n",
    "    rx = tf.broadcast_to(tf.linalg.diag_part(xx), xx.shape)\n",
    "    ry = tf.broadcast_to(tf.linalg.diag_part(yy), yy.shape)\n",
    "\n",
    "    dxx = tf.transpose(rx) + rx - 2.*xx\n",
    "    dyy = tf.transpose(ry) + ry - 2.*yy\n",
    "    dxy = tf.transpose(rx) + ry - 2.*zz\n",
    "\n",
    "    XX = tf.zeros(xx.shape, dtype='float32')\n",
    "    YY = tf.zeros(xx.shape, dtype='float32')\n",
    "    XY = tf.zeros(xx.shape, dtype='float32')\n",
    "\n",
    "    for a in [0.05, 0.2, 0.9]:\n",
    "        XX += a**2 * 1/(a**2 + dxx)\n",
    "        YY += a**2 * 1/(a**2 + dyy)\n",
    "        XY += a**2 * 1/(a**2 + dxy)\n",
    "\n",
    "    return tf.reduce_mean(XX + YY - 2.*XY)\n",
    "\n",
    "\n",
    "def MSE(y_true, y_pred):\n",
    "    return tf.reduce_mean(tfk.losses.mean_squared_error(y_true, y_pred))\n",
    "\n",
    "\n",
    "class Trainer(tfk.Model):\n",
    "    def __init__(self, model, x_dim, y_dim, z_dim, n_couple_layer, n_hid_layer, n_hid_dim):\n",
    "        super(Trainer, self).__init__()\n",
    "        self.model = model\n",
    "        self.x_dim = x_dim\n",
    "        self.y_dim = y_dim\n",
    "        self.z_dim = z_dim\n",
    "        self.tot_dim = y_dim + z_dim\n",
    "        self.pad_dim = self.tot_dim - x_dim\n",
    "        self.n_couple_layer = n_couple_layer\n",
    "        self.n_hid_layer = n_hid_layer\n",
    "        self.n_hid_dim = n_hid_dim\n",
    "\n",
    "        # Check if total dimension is even\n",
    "        assert self.tot_dim % 2 == 0\n",
    "\n",
    "    def train_step(self, data):\n",
    "        x_data, y_data = data\n",
    "        n_sample = x_data.shape[0]\n",
    "\n",
    "        # Forward loss\n",
    "        with tf.GradientTape() as tape:\n",
    "            y_pred = self.model(x_data)\n",
    "            pred_loss = MSE(y_data[:, self.z_dim:], y_pred[:, self.z_dim:])\n",
    "            latent_loss = 0\n",
    "            forward_loss = pred_loss + latent_loss\n",
    "        grads_forward = tape.gradient(\n",
    "            forward_loss, self.model.trainable_weights)\n",
    "        grads_forward = [tf.clip_by_value(grad, -15., 15.) for grad in grads_forward]\n",
    "        self.optimizer.apply_gradients(zip(grads_forward, self.model.trainable_weights))\n",
    "        \n",
    "\n",
    "        # Backward loss\n",
    "        inverse_loss = 0\n",
    "\n",
    "\n",
    "        total_loss = pred_loss + latent_loss + inverse_loss\n",
    "        return {'loss': total_loss,\n",
    "                'pred_loss': pred_loss,\n",
    "                'latent_loss': latent_loss,\n",
    "                'inverse_loss': inverse_loss}\n",
    "\n",
    "#     def test_step(self, data):\n",
    "#         x_data, y_data = data\n",
    "#         return {}"
   ]
  },
  {
   "cell_type": "code",
   "execution_count": null,
   "metadata": {},
   "outputs": [],
   "source": [
    "INN = InvertibleNet(x_dim, n_couple_layer, n_hid_layer, n_hid_dim, name='INN')\n",
    "x = tfk.Input((tot_dim,))\n",
    "INN(x)\n",
    "INN.summary()"
   ]
  },
  {
   "cell_type": "code",
   "execution_count": null,
   "metadata": {},
   "outputs": [],
   "source": [
    "trainer = Trainer(INN, x_dim, y_dim, z_dim, n_couple_layer, n_hid_layer, n_hid_dim)\n",
    "trainer.compile(optimizer='Adam')"
   ]
  },
  {
   "cell_type": "code",
   "execution_count": null,
   "metadata": {},
   "outputs": [],
   "source": [
    "%%time\n",
    "logger = NBatchLogger(n_display, n_epoch)\n",
    "hist = trainer.fit(dataset,\n",
    "                   batch_size=n_batch,\n",
    "                   epochs=n_epoch,\n",
    "                   steps_per_epoch=n_data//n_batch, \n",
    "                   callbacks=[logger], \n",
    "                   verbose=0)"
   ]
  },
  {
   "cell_type": "code",
   "execution_count": null,
   "metadata": {},
   "outputs": [],
   "source": [
    "INN = trainer.model"
   ]
  },
  {
   "cell_type": "code",
   "execution_count": null,
   "metadata": {},
   "outputs": [],
   "source": [
    "z = np.random.multivariate_normal([1.]*z_dim, np.eye(z_dim), y_onehot.shape[0])\n",
    "y = np.concatenate([z, y_onehot], axis=-1).astype('float32')\n",
    "\n",
    "x_pred = INN.inverse(y).numpy()\n",
    "\n",
    "fig, ax = plt.subplots(figsize=(5,5), facecolor='white')\n",
    "for i, color in zip(idx2lab.keys(), lab2idx.keys()):\n",
    "    idx = [True if j==i else False for j in y_onehot.argmax(axis=-1)]\n",
    "    ax.scatter(x_pred[idx,0], x_pred[idx,1], s=5, c=color)"
   ]
  },
  {
   "cell_type": "code",
   "execution_count": null,
   "metadata": {},
   "outputs": [],
   "source": []
  }
 ],
 "metadata": {
  "kernelspec": {
   "display_name": "Python 3",
   "language": "python",
   "name": "python3"
  },
  "language_info": {
   "codemirror_mode": {
    "name": "ipython",
    "version": 3
   },
   "file_extension": ".py",
   "mimetype": "text/x-python",
   "name": "python",
   "nbconvert_exporter": "python",
   "pygments_lexer": "ipython3",
   "version": "3.7.4"
  }
 },
 "nbformat": 4,
 "nbformat_minor": 4
}
